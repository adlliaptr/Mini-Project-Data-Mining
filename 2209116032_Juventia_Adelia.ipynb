{
  "nbformat": 4,
  "nbformat_minor": 0,
  "metadata": {
    "colab": {
      "provenance": [],
      "authorship_tag": "ABX9TyOPSSCCXWsespXaPfujH6vE",
      "include_colab_link": true
    },
    "kernelspec": {
      "name": "python3",
      "display_name": "Python 3"
    },
    "language_info": {
      "name": "python"
    }
  },
  "cells": [
    {
      "cell_type": "markdown",
      "metadata": {
        "id": "view-in-github",
        "colab_type": "text"
      },
      "source": [
        "<a href=\"https://colab.research.google.com/github/adlliaptr/Mini-Project-Data-Mining/blob/main/2209116032_Juventia_Adelia.ipynb\" target=\"_parent\"><img src=\"https://colab.research.google.com/assets/colab-badge.svg\" alt=\"Open In Colab\"/></a>"
      ]
    },
    {
      "cell_type": "markdown",
      "source": [
        "# **\"Student Performance in Exam\" Menggunakan Metodologi CRISP-DM**\n",
        "\n",
        "## Business Understanding\n",
        "\n",
        "### Business Objective\n",
        "### Tujuan bisnis dari datasets ini yaitu untuk memahami faktor-faktor yang berpengaruh terhadap prestasi belajar siswa dengan menganalisis data kinerja ujian sehingga dapat mengidentifikasi area belajar yang memerlukan perhatian khusus, menlihat tingkat pendidikan yang telah dicapai oleh orang tua murid, melihat dari program makan siang sekolah, mengembangkan strategi pembelajaran yang lebih efektif, mengidentifikasi faktor-faktor non-akademis yang mempengaruhi prestasi untuk menciptakan lingkungan pembelajaran yang lebih inklusif dan efektif.\n",
        "\n",
        "## Assess Situation\n",
        "### Prestasi akademik memiliki arti penting bagi siswa dan institusi pendidikan, yang berfungsi sebagai cerminan komprehensif dari pemahaman siswa terhadap kurikulum dan penentu peluang masa depan dan jalur karier mereka. Namun, banyak faktor yang berkontribusi dalam membentuk hasil akademik, yang mencakup aspek-aspek seperti latar belakang orang tua, status sosial ekonomi, persiapan ujian, dan berbagai variabel demografis. Mengenali dan memahami pengaruh dari berbagai aspek ini sangat penting untuk mengembangkan intervensi khusus yang bertujuan untuk mendorong keberhasilan siswa. Meskipun lembaga pendidikan mungkin telah memiliki program dukungan yang ada, efektivitasnya dapat sangat bervariasi. Oleh karena itu, analisis menyeluruh terhadap lanskap saat ini sangat penting untuk mengidentifikasi bidang-bidang di mana peningkatan dapat diterapkan, memastikan bahwa sumber daya diarahkan secara strategis untuk mengoptimalkan hasil siswa.\n",
        "\n",
        "## Data Mining Goals\n",
        "### Tujuan penggalian data yang diuraikan dalam teks ini bertujuan untuk memanfaatkan teknik analisis untuk mendapatkan wawasan tentang faktor-faktor yang memengaruhi kinerja akademik dan untuk menginformasikan intervensi yang ditargetkan. Tujuannya awalnya yaitu mengidentifikasi faktor-faktor utama, seperti latar belakang orang tua, status sosial ekonomi, persiapan ujian, dan variabel demografis, yang secara signifikan memengaruhi hasil akademik siswa. Selanjutnya, analisis prediktif akan digunakan untuk mengembangkan model yang mampu meramalkan kinerja akademik berdasarkan faktor-faktor yang teridentifikasi ini, memungkinkan langkah-langkah proaktif untuk mengatasi tantangan potensial. Selain itu, analisis segmentasi akan memfasilitasi kategorisasi siswa ke dalam kelompok-kelompok berdasarkan karakteristik yang relevan, sehingga memungkinkan intervensi dan program dukungan yang disesuaikan. Selain itu, efektivitas inisiatif dukungan yang ada akan dinilai melalui evaluasi yang ketat, memandu perbaikan dan pengoptimalan untuk memenuhi kebutuhan siswa dengan lebih baik. Terakhir, analisis asosiasi akan mengungkap wawasan tersembunyi dan hubungan sebab akibat potensial antara berbagai faktor, memfasilitasi pengembangan strategi berbasis bukti untuk meningkatkan keberhasilan siswa. Melalui upaya penggalian data ini, institusi pendidikan dapat memperoleh wawasan yang lebih dalam tentang pendorong kinerja akademik dan mengembangkan strategi yang ditargetkan untuk mendukung pencapaian siswa secara efektif.\n",
        "\n",
        "## Project Plan\n",
        "### Rencana proyek ini mencakup pendekatan sistematis untuk memanfaatkan teknik penggalian data guna memperoleh wawasan tentang faktor-faktor yang memengaruhi kinerja akademik dan mengembangkan strategi berbasis bukti untuk mendukung keberhasilan siswa. Tahapan awal adalah pengumpulan dan persiapan data melibatkan pengumpulan kumpulan data yang relevan berisi informasi tentang kinerja akademik siswa, latar belakang orang tua, status sosial ekonomi, persiapan tes, dan variabel demografis. Analisis data eksplorasi (EDA) selanjutnya bertujuan untuk mengungkap wawasan awal, memvisualisasikan distribusi, dan mengidentifikasi hubungan potensial di antara variabel. Pemilihan dan rekayasa fitur akan dilakukan untuk mengidentifikasi variabel yang paling relevan yang berdampak pada kinerja akademik dan mengeksplorasi pembuatan atau transformasi fitur untuk meningkatkan pemodelan prediktif. Pengembangan model akan mencakup pembuatan model prediktif seperti algoritma regresi atau klasifikasi untuk meramalkan kinerja akademik. Model-model ini akan dievaluasi dengan menggunakan metrik yang sesuai untuk memastikan ketahanan dan generalisasi mereka. Selain itu, analisis segmentasi akan melibatkan pengelompokan siswa berdasarkan karakteristik seperti latar belakang orang tua dan status sosial ekonomi untuk menyesuaikan intervensi yang sesuai. Efektivitas program dukungan yang ada akan dinilai melalui analisis komparatif, dan analisis asosiasi akan mengungkap hubungan tersembunyi antara berbagai faktor yang mempengaruhi. Dokumentasi dan pelaporan akan merangkum metodologi, temuan, dan rekomendasi, sementara implementasi dan pemantauan akan memastikan perbaikan yang berkelanjutan melalui penerapan strategi yang direkomendasikan dan evaluasi yang berkesinambungan."
      ],
      "metadata": {
        "id": "7fKV3dHIDpqH"
      }
    }
  ]
}